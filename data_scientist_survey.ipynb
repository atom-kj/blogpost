{
 "cells": [
  {
   "cell_type": "markdown",
   "metadata": {},
   "source": [
    "# Is it still worth becoming Data Scientist?\n",
    "\n",
    "For a while, data scientist is assumed to be one of the best job in the world. On the other hands some of them are constantly mentioning this job will disappear in the near future. To investigate which opinion make more sense, folowing questions are posed: The number of data scientist is increased in the latest year? Are they satisfied with their occupancy? and How much is their salary?"
   ]
  },
  {
   "cell_type": "code",
   "execution_count": 236,
   "metadata": {},
   "outputs": [],
   "source": [
    "# import package\n",
    "import numpy as np\n",
    "import pandas as pd\n",
    "import matplotlib.pyplot as plt\n",
    "import seaborn as sns\n",
    "from scipy import stats\n",
    "\n",
    "%matplotlib inline"
   ]
  },
  {
   "cell_type": "markdown",
   "metadata": {},
   "source": [
    "## Business understanding\n",
    "\n",
    "Following three questions are \n",
    "\n",
    "1. How many data scientists increased from 2018 to 2019?\n",
    "2. How much data scientists satisfied with their job in 2018 and 2019?\n",
    "3. How is the tendency of data scientist's annual salary in 2018 and 2019?"
   ]
  },
  {
   "cell_type": "markdown",
   "metadata": {},
   "source": [
    "## Data understanding"
   ]
  },
  {
   "cell_type": "code",
   "execution_count": 237,
   "metadata": {},
   "outputs": [],
   "source": [
    "# load data\n",
    "df_2018schema = pd.read_csv('data/2018_survey_results_schema.csv', dtype=np.object)\n",
    "df_2018       = pd.read_csv('data/2018_survey_results_public.csv', dtype=np.object)\n",
    "df_2019schema = pd.read_csv('data/2019_survey_results_schema.csv', dtype=np.object)\n",
    "df_2019       = pd.read_csv('data/2019_survey_results_public.csv', dtype=np.object)"
   ]
  },
  {
   "cell_type": "code",
   "execution_count": 238,
   "metadata": {},
   "outputs": [
    {
     "name": "stdout",
     "output_type": "stream",
     "text": [
      "(88883, 85)\n",
      "(98855, 129)\n"
     ]
    }
   ],
   "source": [
    "print(df_2019.shape)\n",
    "print(df_2018.shape)"
   ]
  },
  {
   "cell_type": "markdown",
   "metadata": {},
   "source": [
    "In 2019 survey, the number of developer who answered survey was 888835. In 2018, it was 98855.\n",
    "Also the number of questions are decreased from 129 to 85 in 2019.\n"
   ]
  },
  {
   "cell_type": "code",
   "execution_count": 239,
   "metadata": {
    "scrolled": true
   },
   "outputs": [
    {
     "data": {
      "text/html": [
       "<div>\n",
       "<style scoped>\n",
       "    .dataframe tbody tr th:only-of-type {\n",
       "        vertical-align: middle;\n",
       "    }\n",
       "\n",
       "    .dataframe tbody tr th {\n",
       "        vertical-align: top;\n",
       "    }\n",
       "\n",
       "    .dataframe thead th {\n",
       "        text-align: right;\n",
       "    }\n",
       "</style>\n",
       "<table border=\"1\" class=\"dataframe\">\n",
       "  <thead>\n",
       "    <tr style=\"text-align: right;\">\n",
       "      <th></th>\n",
       "      <th>Column</th>\n",
       "      <th>QuestionText</th>\n",
       "    </tr>\n",
       "  </thead>\n",
       "  <tbody>\n",
       "    <tr>\n",
       "      <th>12</th>\n",
       "      <td>DevType</td>\n",
       "      <td>Which of the following describe you? Please se...</td>\n",
       "    </tr>\n",
       "    <tr>\n",
       "      <th>17</th>\n",
       "      <td>JobSat</td>\n",
       "      <td>How satisfied are you with your current job? (...</td>\n",
       "    </tr>\n",
       "    <tr>\n",
       "      <th>31</th>\n",
       "      <td>ConvertedComp</td>\n",
       "      <td>Salary converted to annual USD salaries using ...</td>\n",
       "    </tr>\n",
       "  </tbody>\n",
       "</table>\n",
       "</div>"
      ],
      "text/plain": [
       "           Column                                       QuestionText\n",
       "12        DevType  Which of the following describe you? Please se...\n",
       "17         JobSat  How satisfied are you with your current job? (...\n",
       "31  ConvertedComp  Salary converted to annual USD salaries using ..."
      ]
     },
     "execution_count": 239,
     "metadata": {},
     "output_type": "execute_result"
    }
   ],
   "source": [
    "df_2019schema[(df_2019schema.Column == 'DevType') | (df_2019schema.Column == 'JobSat') | (df_2019schema['Column'] == 'ConvertedComp') ]"
   ]
  },
  {
   "cell_type": "code",
   "execution_count": 240,
   "metadata": {
    "scrolled": true
   },
   "outputs": [
    {
     "data": {
      "text/html": [
       "<div>\n",
       "<style scoped>\n",
       "    .dataframe tbody tr th:only-of-type {\n",
       "        vertical-align: middle;\n",
       "    }\n",
       "\n",
       "    .dataframe tbody tr th {\n",
       "        vertical-align: top;\n",
       "    }\n",
       "\n",
       "    .dataframe thead th {\n",
       "        text-align: right;\n",
       "    }\n",
       "</style>\n",
       "<table border=\"1\" class=\"dataframe\">\n",
       "  <thead>\n",
       "    <tr style=\"text-align: right;\">\n",
       "      <th></th>\n",
       "      <th>Column</th>\n",
       "      <th>QuestionText</th>\n",
       "    </tr>\n",
       "  </thead>\n",
       "  <tbody>\n",
       "    <tr>\n",
       "      <th>9</th>\n",
       "      <td>DevType</td>\n",
       "      <td>Which of the following describe you? Please se...</td>\n",
       "    </tr>\n",
       "    <tr>\n",
       "      <th>12</th>\n",
       "      <td>JobSatisfaction</td>\n",
       "      <td>How satisfied are you with your current job? I...</td>\n",
       "    </tr>\n",
       "    <tr>\n",
       "      <th>54</th>\n",
       "      <td>ConvertedSalary</td>\n",
       "      <td>Salary converted to annual USD salaries using ...</td>\n",
       "    </tr>\n",
       "  </tbody>\n",
       "</table>\n",
       "</div>"
      ],
      "text/plain": [
       "             Column                                       QuestionText\n",
       "9           DevType  Which of the following describe you? Please se...\n",
       "12  JobSatisfaction  How satisfied are you with your current job? I...\n",
       "54  ConvertedSalary  Salary converted to annual USD salaries using ..."
      ]
     },
     "execution_count": 240,
     "metadata": {},
     "output_type": "execute_result"
    }
   ],
   "source": [
    "df_2018schema[(df_2018schema.Column == 'DevType') | (df_2018schema.Column == 'JobSatisfaction') | (df_2018schema['Column'] == 'ConvertedSalary') ]"
   ]
  },
  {
   "cell_type": "markdown",
   "metadata": {},
   "source": [
    "In each year, the data on column above is selected to estimate the question"
   ]
  },
  {
   "cell_type": "markdown",
   "metadata": {},
   "source": [
    "## Data preparation\n",
    "\n",
    "preprocess the data before analysis"
   ]
  },
  {
   "cell_type": "code",
   "execution_count": 241,
   "metadata": {},
   "outputs": [
    {
     "data": {
      "text/html": [
       "<div>\n",
       "<style scoped>\n",
       "    .dataframe tbody tr th:only-of-type {\n",
       "        vertical-align: middle;\n",
       "    }\n",
       "\n",
       "    .dataframe tbody tr th {\n",
       "        vertical-align: top;\n",
       "    }\n",
       "\n",
       "    .dataframe thead th {\n",
       "        text-align: right;\n",
       "    }\n",
       "</style>\n",
       "<table border=\"1\" class=\"dataframe\">\n",
       "  <thead>\n",
       "    <tr style=\"text-align: right;\">\n",
       "      <th></th>\n",
       "      <th>DevType</th>\n",
       "      <th>JobSat</th>\n",
       "      <th>ConvertedComp</th>\n",
       "    </tr>\n",
       "  </thead>\n",
       "  <tbody>\n",
       "    <tr>\n",
       "      <th>0</th>\n",
       "      <td>NaN</td>\n",
       "      <td>NaN</td>\n",
       "      <td>NaN</td>\n",
       "    </tr>\n",
       "    <tr>\n",
       "      <th>1</th>\n",
       "      <td>Developer, desktop or enterprise applications;...</td>\n",
       "      <td>NaN</td>\n",
       "      <td>NaN</td>\n",
       "    </tr>\n",
       "    <tr>\n",
       "      <th>2</th>\n",
       "      <td>Designer;Developer, back-end;Developer, front-...</td>\n",
       "      <td>Slightly satisfied</td>\n",
       "      <td>8820</td>\n",
       "    </tr>\n",
       "    <tr>\n",
       "      <th>3</th>\n",
       "      <td>Developer, full-stack</td>\n",
       "      <td>Slightly satisfied</td>\n",
       "      <td>61000</td>\n",
       "    </tr>\n",
       "    <tr>\n",
       "      <th>4</th>\n",
       "      <td>Academic researcher;Developer, desktop or ente...</td>\n",
       "      <td>Slightly dissatisfied</td>\n",
       "      <td>NaN</td>\n",
       "    </tr>\n",
       "  </tbody>\n",
       "</table>\n",
       "</div>"
      ],
      "text/plain": [
       "                                             DevType                 JobSat  \\\n",
       "0                                                NaN                    NaN   \n",
       "1  Developer, desktop or enterprise applications;...                    NaN   \n",
       "2  Designer;Developer, back-end;Developer, front-...     Slightly satisfied   \n",
       "3                              Developer, full-stack     Slightly satisfied   \n",
       "4  Academic researcher;Developer, desktop or ente...  Slightly dissatisfied   \n",
       "\n",
       "  ConvertedComp  \n",
       "0           NaN  \n",
       "1           NaN  \n",
       "2          8820  \n",
       "3         61000  \n",
       "4           NaN  "
      ]
     },
     "execution_count": 241,
     "metadata": {},
     "output_type": "execute_result"
    }
   ],
   "source": [
    "# delete unnecessary columns to answer the question\n",
    "df_2019 = df_2019[['DevType','JobSat','ConvertedComp']]\n",
    "df_2018 = df_2018[['DevType','JobSatisfaction','ConvertedSalary']]\n",
    "df_2019.head()"
   ]
  },
  {
   "cell_type": "code",
   "execution_count": 242,
   "metadata": {
    "scrolled": true
   },
   "outputs": [
    {
     "data": {
      "text/html": [
       "<div>\n",
       "<style scoped>\n",
       "    .dataframe tbody tr th:only-of-type {\n",
       "        vertical-align: middle;\n",
       "    }\n",
       "\n",
       "    .dataframe tbody tr th {\n",
       "        vertical-align: top;\n",
       "    }\n",
       "\n",
       "    .dataframe thead th {\n",
       "        text-align: right;\n",
       "    }\n",
       "</style>\n",
       "<table border=\"1\" class=\"dataframe\">\n",
       "  <thead>\n",
       "    <tr style=\"text-align: right;\">\n",
       "      <th></th>\n",
       "      <th>DevType</th>\n",
       "      <th>JobSatisfaction</th>\n",
       "      <th>ConvertedSalary</th>\n",
       "    </tr>\n",
       "  </thead>\n",
       "  <tbody>\n",
       "    <tr>\n",
       "      <th>0</th>\n",
       "      <td>Full-stack developer</td>\n",
       "      <td>Extremely satisfied</td>\n",
       "      <td>NaN</td>\n",
       "    </tr>\n",
       "    <tr>\n",
       "      <th>1</th>\n",
       "      <td>Database administrator;DevOps specialist;Full-...</td>\n",
       "      <td>Moderately dissatisfied</td>\n",
       "      <td>70841</td>\n",
       "    </tr>\n",
       "    <tr>\n",
       "      <th>2</th>\n",
       "      <td>Engineering manager;Full-stack developer</td>\n",
       "      <td>Moderately satisfied</td>\n",
       "      <td>NaN</td>\n",
       "    </tr>\n",
       "    <tr>\n",
       "      <th>3</th>\n",
       "      <td>Full-stack developer</td>\n",
       "      <td>Neither satisfied nor dissatisfied</td>\n",
       "      <td>NaN</td>\n",
       "    </tr>\n",
       "    <tr>\n",
       "      <th>4</th>\n",
       "      <td>Data or business analyst;Desktop or enterprise...</td>\n",
       "      <td>Slightly satisfied</td>\n",
       "      <td>21426</td>\n",
       "    </tr>\n",
       "  </tbody>\n",
       "</table>\n",
       "</div>"
      ],
      "text/plain": [
       "                                             DevType  \\\n",
       "0                               Full-stack developer   \n",
       "1  Database administrator;DevOps specialist;Full-...   \n",
       "2           Engineering manager;Full-stack developer   \n",
       "3                               Full-stack developer   \n",
       "4  Data or business analyst;Desktop or enterprise...   \n",
       "\n",
       "                      JobSatisfaction ConvertedSalary  \n",
       "0                 Extremely satisfied             NaN  \n",
       "1             Moderately dissatisfied           70841  \n",
       "2                Moderately satisfied             NaN  \n",
       "3  Neither satisfied nor dissatisfied             NaN  \n",
       "4                  Slightly satisfied           21426  "
      ]
     },
     "execution_count": 242,
     "metadata": {},
     "output_type": "execute_result"
    }
   ],
   "source": [
    "df_2018.head()"
   ]
  },
  {
   "cell_type": "code",
   "execution_count": 243,
   "metadata": {},
   "outputs": [
    {
     "data": {
      "text/plain": [
       "DevType           7548\n",
       "JobSat           17895\n",
       "ConvertedComp    33060\n",
       "dtype: int64"
      ]
     },
     "execution_count": 243,
     "metadata": {},
     "output_type": "execute_result"
    }
   ],
   "source": [
    "# check NaN value \n",
    "df_2019.isnull().sum()"
   ]
  },
  {
   "cell_type": "code",
   "execution_count": 244,
   "metadata": {},
   "outputs": [
    {
     "data": {
      "image/png": "[encoded data removed]",
      "text/plain": [
       "<Figure size 432x288 with 1 Axes>"
      ]
     },
     "metadata": {},
     "output_type": "display_data"
    }
   ],
   "source": [
    "(df_2019.isnull().sum() / df_2019.shape[0]).sort_values().plot.barh(cmap='tab20')\n",
    "plt.title('Ratio of missing values in each column.')\n",
    "plt.xlabel('Ratio')\n",
    "plt.ylabel('Column name')\n",
    "plt.show()"
   ]
  },
  {
   "cell_type": "code",
   "execution_count": 245,
   "metadata": {},
   "outputs": [
    {
     "data": {
      "text/plain": [
       "DevType             6757\n",
       "JobSatisfaction    29579\n",
       "ConvertedSalary    51153\n",
       "dtype: int64"
      ]
     },
     "execution_count": 245,
     "metadata": {},
     "output_type": "execute_result"
    }
   ],
   "source": [
    "df_2018.isnull().sum()"
   ]
  },
  {
   "cell_type": "code",
   "execution_count": 246,
   "metadata": {},
   "outputs": [
    {
     "data": {
      "image/png": "[encoded data removed]",
      "text/plain": [
       "<Figure size 432x288 with 1 Axes>"
      ]
     },
     "metadata": {},
     "output_type": "display_data"
    }
   ],
   "source": [
    "(df_2018.isnull().sum() / df_2018.shape[0]).sort_values().plot.barh(cmap='tab20')\n",
    "plt.title('Ratio of missing values in each column.')\n",
    "plt.xlabel('Ratio')\n",
    "plt.ylabel('Column name')\n",
    "plt.show()"
   ]
  },
  {
   "cell_type": "markdown",
   "metadata": {},
   "source": [
    "For this analysis, it is difficult to impute the missing values. Probably not answering specific question is based on some reasons. If machine learning analysis is necessary, imputing missing values can be useful but for exploration analysis and visualization, imputing is not useful and is possibly harmful. Hence, they keep still in this analysis."
   ]
  },
  {
   "cell_type": "code",
   "execution_count": 247,
   "metadata": {
    "scrolled": true
   },
   "outputs": [
    {
     "data": {
      "text/html": [
       "<div>\n",
       "<style scoped>\n",
       "    .dataframe tbody tr th:only-of-type {\n",
       "        vertical-align: middle;\n",
       "    }\n",
       "\n",
       "    .dataframe tbody tr th {\n",
       "        vertical-align: top;\n",
       "    }\n",
       "\n",
       "    .dataframe thead th {\n",
       "        text-align: right;\n",
       "    }\n",
       "</style>\n",
       "<table border=\"1\" class=\"dataframe\">\n",
       "  <thead>\n",
       "    <tr style=\"text-align: right;\">\n",
       "      <th></th>\n",
       "      <th>DevType</th>\n",
       "      <th>JobSat</th>\n",
       "      <th>ConvertedComp</th>\n",
       "    </tr>\n",
       "  </thead>\n",
       "  <tbody>\n",
       "    <tr>\n",
       "      <th>5</th>\n",
       "      <td>Data or business analyst;Data scientist or mac...</td>\n",
       "      <td>Slightly satisfied</td>\n",
       "      <td>366420</td>\n",
       "    </tr>\n",
       "    <tr>\n",
       "      <th>9</th>\n",
       "      <td>Data or business analyst;Data scientist or mac...</td>\n",
       "      <td>Slightly dissatisfied</td>\n",
       "      <td>13293</td>\n",
       "    </tr>\n",
       "    <tr>\n",
       "      <th>11</th>\n",
       "      <td>Data or business analyst;Data scientist or mac...</td>\n",
       "      <td>NaN</td>\n",
       "      <td>NaN</td>\n",
       "    </tr>\n",
       "    <tr>\n",
       "      <th>32</th>\n",
       "      <td>Academic researcher;Data scientist or machine ...</td>\n",
       "      <td>Very satisfied</td>\n",
       "      <td>8400</td>\n",
       "    </tr>\n",
       "    <tr>\n",
       "      <th>61</th>\n",
       "      <td>Data or business analyst;Data scientist or mac...</td>\n",
       "      <td>Slightly dissatisfied</td>\n",
       "      <td>87994</td>\n",
       "    </tr>\n",
       "    <tr>\n",
       "      <th>...</th>\n",
       "      <td>...</td>\n",
       "      <td>...</td>\n",
       "      <td>...</td>\n",
       "    </tr>\n",
       "    <tr>\n",
       "      <th>88784</th>\n",
       "      <td>Data scientist or machine learning specialist</td>\n",
       "      <td>NaN</td>\n",
       "      <td>NaN</td>\n",
       "    </tr>\n",
       "    <tr>\n",
       "      <th>88786</th>\n",
       "      <td>Academic researcher;Data scientist or machine ...</td>\n",
       "      <td>NaN</td>\n",
       "      <td>NaN</td>\n",
       "    </tr>\n",
       "    <tr>\n",
       "      <th>88813</th>\n",
       "      <td>Data or business analyst;Data scientist or mac...</td>\n",
       "      <td>NaN</td>\n",
       "      <td>NaN</td>\n",
       "    </tr>\n",
       "    <tr>\n",
       "      <th>88826</th>\n",
       "      <td>Data or business analyst;Data scientist or mac...</td>\n",
       "      <td>NaN</td>\n",
       "      <td>NaN</td>\n",
       "    </tr>\n",
       "    <tr>\n",
       "      <th>88854</th>\n",
       "      <td>Academic researcher;Data scientist or machine ...</td>\n",
       "      <td>NaN</td>\n",
       "      <td>NaN</td>\n",
       "    </tr>\n",
       "  </tbody>\n",
       "</table>\n",
       "<p>6460 rows × 3 columns</p>\n",
       "</div>"
      ],
      "text/plain": [
       "                                                 DevType  \\\n",
       "5      Data or business analyst;Data scientist or mac...   \n",
       "9      Data or business analyst;Data scientist or mac...   \n",
       "11     Data or business analyst;Data scientist or mac...   \n",
       "32     Academic researcher;Data scientist or machine ...   \n",
       "61     Data or business analyst;Data scientist or mac...   \n",
       "...                                                  ...   \n",
       "88784      Data scientist or machine learning specialist   \n",
       "88786  Academic researcher;Data scientist or machine ...   \n",
       "88813  Data or business analyst;Data scientist or mac...   \n",
       "88826  Data or business analyst;Data scientist or mac...   \n",
       "88854  Academic researcher;Data scientist or machine ...   \n",
       "\n",
       "                      JobSat ConvertedComp  \n",
       "5         Slightly satisfied        366420  \n",
       "9      Slightly dissatisfied         13293  \n",
       "11                       NaN           NaN  \n",
       "32            Very satisfied          8400  \n",
       "61     Slightly dissatisfied         87994  \n",
       "...                      ...           ...  \n",
       "88784                    NaN           NaN  \n",
       "88786                    NaN           NaN  \n",
       "88813                    NaN           NaN  \n",
       "88826                    NaN           NaN  \n",
       "88854                    NaN           NaN  \n",
       "\n",
       "[6460 rows x 3 columns]"
      ]
     },
     "execution_count": 247,
     "metadata": {},
     "output_type": "execute_result"
    }
   ],
   "source": [
    "# keep data relevant job\n",
    "df_2019_data = df_2019[df_2019.DevType.str.contains('data scientist|Data scientist')==True]\n",
    "df_2019_data_ana = df_2019[df_2019.DevType.str.contains('data or business|Data or business')==True]\n",
    "df_2019_data\n"
   ]
  },
  {
   "cell_type": "code",
   "execution_count": 248,
   "metadata": {},
   "outputs": [
    {
     "data": {
      "text/html": [
       "<div>\n",
       "<style scoped>\n",
       "    .dataframe tbody tr th:only-of-type {\n",
       "        vertical-align: middle;\n",
       "    }\n",
       "\n",
       "    .dataframe tbody tr th {\n",
       "        vertical-align: top;\n",
       "    }\n",
       "\n",
       "    .dataframe thead th {\n",
       "        text-align: right;\n",
       "    }\n",
       "</style>\n",
       "<table border=\"1\" class=\"dataframe\">\n",
       "  <thead>\n",
       "    <tr style=\"text-align: right;\">\n",
       "      <th></th>\n",
       "      <th>DevType</th>\n",
       "      <th>JobSatisfaction</th>\n",
       "      <th>ConvertedSalary</th>\n",
       "    </tr>\n",
       "  </thead>\n",
       "  <tbody>\n",
       "    <tr>\n",
       "      <th>18</th>\n",
       "      <td>Data or business analyst;Data scientist or mac...</td>\n",
       "      <td>Slightly satisfied</td>\n",
       "      <td>NaN</td>\n",
       "    </tr>\n",
       "    <tr>\n",
       "      <th>28</th>\n",
       "      <td>Back-end developer;Data scientist or machine l...</td>\n",
       "      <td>Extremely satisfied</td>\n",
       "      <td>NaN</td>\n",
       "    </tr>\n",
       "    <tr>\n",
       "      <th>40</th>\n",
       "      <td>Data scientist or machine learning specialist;...</td>\n",
       "      <td>NaN</td>\n",
       "      <td>NaN</td>\n",
       "    </tr>\n",
       "    <tr>\n",
       "      <th>62</th>\n",
       "      <td>Back-end developer;Data scientist or machine l...</td>\n",
       "      <td>Moderately satisfied</td>\n",
       "      <td>120000</td>\n",
       "    </tr>\n",
       "    <tr>\n",
       "      <th>86</th>\n",
       "      <td>Back-end developer;Data scientist or machine l...</td>\n",
       "      <td>Neither satisfied nor dissatisfied</td>\n",
       "      <td>120000</td>\n",
       "    </tr>\n",
       "    <tr>\n",
       "      <th>...</th>\n",
       "      <td>...</td>\n",
       "      <td>...</td>\n",
       "      <td>...</td>\n",
       "    </tr>\n",
       "    <tr>\n",
       "      <th>98319</th>\n",
       "      <td>Back-end developer;Data scientist or machine l...</td>\n",
       "      <td>NaN</td>\n",
       "      <td>NaN</td>\n",
       "    </tr>\n",
       "    <tr>\n",
       "      <th>98343</th>\n",
       "      <td>Back-end developer;Data or business analyst;Da...</td>\n",
       "      <td>NaN</td>\n",
       "      <td>NaN</td>\n",
       "    </tr>\n",
       "    <tr>\n",
       "      <th>98345</th>\n",
       "      <td>Data scientist or machine learning specialist;...</td>\n",
       "      <td>NaN</td>\n",
       "      <td>NaN</td>\n",
       "    </tr>\n",
       "    <tr>\n",
       "      <th>98395</th>\n",
       "      <td>Back-end developer;Data or business analyst;Da...</td>\n",
       "      <td>NaN</td>\n",
       "      <td>NaN</td>\n",
       "    </tr>\n",
       "    <tr>\n",
       "      <th>98526</th>\n",
       "      <td>Back-end developer;Data scientist or machine l...</td>\n",
       "      <td>NaN</td>\n",
       "      <td>NaN</td>\n",
       "    </tr>\n",
       "  </tbody>\n",
       "</table>\n",
       "<p>7088 rows × 3 columns</p>\n",
       "</div>"
      ],
      "text/plain": [
       "                                                 DevType  \\\n",
       "18     Data or business analyst;Data scientist or mac...   \n",
       "28     Back-end developer;Data scientist or machine l...   \n",
       "40     Data scientist or machine learning specialist;...   \n",
       "62     Back-end developer;Data scientist or machine l...   \n",
       "86     Back-end developer;Data scientist or machine l...   \n",
       "...                                                  ...   \n",
       "98319  Back-end developer;Data scientist or machine l...   \n",
       "98343  Back-end developer;Data or business analyst;Da...   \n",
       "98345  Data scientist or machine learning specialist;...   \n",
       "98395  Back-end developer;Data or business analyst;Da...   \n",
       "98526  Back-end developer;Data scientist or machine l...   \n",
       "\n",
       "                          JobSatisfaction ConvertedSalary  \n",
       "18                     Slightly satisfied             NaN  \n",
       "28                    Extremely satisfied             NaN  \n",
       "40                                    NaN             NaN  \n",
       "62                   Moderately satisfied          120000  \n",
       "86     Neither satisfied nor dissatisfied          120000  \n",
       "...                                   ...             ...  \n",
       "98319                                 NaN             NaN  \n",
       "98343                                 NaN             NaN  \n",
       "98345                                 NaN             NaN  \n",
       "98395                                 NaN             NaN  \n",
       "98526                                 NaN             NaN  \n",
       "\n",
       "[7088 rows x 3 columns]"
      ]
     },
     "execution_count": 248,
     "metadata": {},
     "output_type": "execute_result"
    }
   ],
   "source": [
    "df_2018_data = df_2018[df_2018.DevType.str.contains('Data scientist|data scientist')==True]\n",
    "df_2018_data_ana = df_2018[df_2018.DevType.str.contains('Data or business|data or business')==True]\n",
    "df_2018_data"
   ]
  },
  {
   "cell_type": "code",
   "execution_count": 249,
   "metadata": {
    "scrolled": true
   },
   "outputs": [
    {
     "data": {
      "text/plain": [
       "Slightly satisfied                    24207\n",
       "Very satisfied                        22452\n",
       "Slightly dissatisfied                 10752\n",
       "Neither satisfied nor dissatisfied     8720\n",
       "Very dissatisfied                      4857\n",
       "Name: JobSat, dtype: int64"
      ]
     },
     "execution_count": 249,
     "metadata": {},
     "output_type": "execute_result"
    }
   ],
   "source": [
    "# check jobsatisfaction multiple choice\n",
    "df_2019['JobSat'].value_counts()"
   ]
  },
  {
   "cell_type": "code",
   "execution_count": 250,
   "metadata": {
    "scrolled": true
   },
   "outputs": [
    {
     "data": {
      "text/plain": [
       "Moderately satisfied                  26005\n",
       "Extremely satisfied                   12436\n",
       "Slightly satisfied                    10012\n",
       "Slightly dissatisfied                  7057\n",
       "Moderately dissatisfied                6318\n",
       "Neither satisfied nor dissatisfied     4966\n",
       "Extremely dissatisfied                 2482\n",
       "Name: JobSatisfaction, dtype: int64"
      ]
     },
     "execution_count": 250,
     "metadata": {},
     "output_type": "execute_result"
    }
   ],
   "source": [
    "df_2018['JobSatisfaction'].value_counts()"
   ]
  },
  {
   "cell_type": "code",
   "execution_count": 251,
   "metadata": {},
   "outputs": [
    {
     "name": "stderr",
     "output_type": "stream",
     "text": [
      "C:\\Users\\ATOM\\AppData\\Roaming\\Python\\Python36\\site-packages\\ipykernel_launcher.py:8: SettingWithCopyWarning: \n",
      "A value is trying to be set on a copy of a slice from a DataFrame.\n",
      "Try using .loc[row_indexer,col_indexer] = value instead\n",
      "\n",
      "See the caveats in the documentation: http://pandas.pydata.org/pandas-docs/stable/user_guide/indexing.html#returning-a-view-versus-a-copy\n",
      "  \n"
     ]
    }
   ],
   "source": [
    "# change satisfaction to 0 to 1 scale numerical value\n",
    "df_2019_data['JobSat'] = df_2019_data['JobSat'].replace({\n",
    "    'Very dissatisfied':                  0,\n",
    "    'Slightly dissatisfied':              1,\n",
    "    'Neither satisfied nor dissatisfied': 2,\n",
    "    'Slightly satisfied':                 3,\n",
    "    'Very satisfied':                     4\n",
    "}) / 4."
   ]
  },
  {
   "cell_type": "code",
   "execution_count": 252,
   "metadata": {},
   "outputs": [
    {
     "name": "stderr",
     "output_type": "stream",
     "text": [
      "C:\\Users\\ATOM\\AppData\\Roaming\\Python\\Python36\\site-packages\\ipykernel_launcher.py:9: SettingWithCopyWarning: \n",
      "A value is trying to be set on a copy of a slice from a DataFrame.\n",
      "Try using .loc[row_indexer,col_indexer] = value instead\n",
      "\n",
      "See the caveats in the documentation: http://pandas.pydata.org/pandas-docs/stable/user_guide/indexing.html#returning-a-view-versus-a-copy\n",
      "  if __name__ == '__main__':\n"
     ]
    }
   ],
   "source": [
    "df_2018_data['JobSatisfaction'] = df_2018_data['JobSatisfaction'].replace({\n",
    "    'Extremely dissatisfied':             0,\n",
    "    'Moderately dissatisfied':            1,\n",
    "    'Slightly dissatisfied':              2,\n",
    "    'Neither satisfied nor dissatisfied': 3,\n",
    "    'Slightly satisfied':                 4,\n",
    "    'Moderately satisfied':               5,\n",
    "    'Extremely satisfied':                6\n",
    "}) / 6."
   ]
  },
  {
   "cell_type": "code",
   "execution_count": 314,
   "metadata": {
    "scrolled": false
   },
   "outputs": [
    {
     "name": "stderr",
     "output_type": "stream",
     "text": [
      "C:\\Users\\ATOM\\Miniconda2\\envs\\lightgbm2\\lib\\site-packages\\pandas\\core\\generic.py:5208: SettingWithCopyWarning: \n",
      "A value is trying to be set on a copy of a slice from a DataFrame.\n",
      "Try using .loc[row_indexer,col_indexer] = value instead\n",
      "\n",
      "See the caveats in the documentation: http://pandas.pydata.org/pandas-docs/stable/user_guide/indexing.html#returning-a-view-versus-a-copy\n",
      "  self[name] = value\n"
     ]
    }
   ],
   "source": [
    "# change str to float\n",
    "df_2019_data.ConvertedComp = df_2019_data.ConvertedComp.astype('float')\n",
    "df_2018_data.ConvertedSalary = df_2018_data.ConvertedSalary.astype('float')"
   ]
  },
  {
   "cell_type": "code",
   "execution_count": 347,
   "metadata": {
    "scrolled": true
   },
   "outputs": [],
   "source": [
    "# delete NaN\n",
    "df_2019_data = df_2019_data.dropna(subset=['ConvertedComp'],how = 'all')\n",
    "df_2018_data = df_2018_data.dropna(subset=['ConvertedSalary'],how = 'all')\n",
    "# delete 0\n",
    "df_2019_data = df_2019_data [(df_2019_data[['ConvertedComp']] != 0).all(axis=1)]\n",
    "df_2018_data = df_2018_data [(df_2018_data[['ConvertedSalary']] != 0).all(axis=1)]"
   ]
  },
  {
   "cell_type": "code",
   "execution_count": 350,
   "metadata": {},
   "outputs": [
    {
     "data": {
      "image/png": "[encoded data removed]",
      "text/plain": [
       "<Figure size 432x288 with 1 Axes>"
      ]
     },
     "metadata": {},
     "output_type": "display_data"
    }
   ],
   "source": [
    "# check salary data\n",
    "df_2019_data.ConvertedComp.plot(kind='box')\n",
    "plt.show()"
   ]
  },
  {
   "cell_type": "code",
   "execution_count": 351,
   "metadata": {},
   "outputs": [
    {
     "data": {
      "image/png": "[encoded data removed]",
      "text/plain": [
       "<Figure size 432x288 with 1 Axes>"
      ]
     },
     "metadata": {},
     "output_type": "display_data"
    }
   ],
   "source": [
    "# check salary data\n",
    "df_2018_data.ConvertedSalary.plot(kind='box')\n",
    "plt.show()"
   ]
  },
  {
   "cell_type": "code",
   "execution_count": 352,
   "metadata": {},
   "outputs": [],
   "source": [
    "# remove outliers\n",
    "Q1 = df_2019_data.ConvertedComp.quantile(0.25)\n",
    "Q3 = df_2019_data.ConvertedComp.quantile(0.75)\n",
    "IQR = Q3 = Q1\n",
    "df_2019_filt = df_2019_data.query('(@Q1 - 5 * @IQR) <= ConvertedComp <= (@Q3 + 5 * @IQR)')               "
   ]
  },
  {
   "cell_type": "code",
   "execution_count": 353,
   "metadata": {},
   "outputs": [
    {
     "data": {
      "image/png": "[encoded data removed]",
      "text/plain": [
       "<Figure size 432x288 with 1 Axes>"
      ]
     },
     "metadata": {},
     "output_type": "display_data"
    }
   ],
   "source": [
    "df_2019_filt.ConvertedComp.plot(kind='box')\n",
    "plt.show()"
   ]
  },
  {
   "cell_type": "code",
   "execution_count": 354,
   "metadata": {},
   "outputs": [],
   "source": [
    "Q1 = df_2018_data.ConvertedSalary.quantile(0.25)\n",
    "Q3 = df_2018_data.ConvertedSalary.quantile(0.75)\n",
    "IQR = Q3 = Q1\n",
    "df_2018_filt = df_2018_data.query('(@Q1 - 5 * @IQR) <= ConvertedSalary <= (@Q3 + 5 * @IQR)')               "
   ]
  },
  {
   "cell_type": "code",
   "execution_count": 355,
   "metadata": {},
   "outputs": [
    {
     "data": {
      "image/png": "[encoded data removed]",
      "text/plain": [
       "<Figure size 432x288 with 1 Axes>"
      ]
     },
     "metadata": {},
     "output_type": "display_data"
    }
   ],
   "source": [
    "df_2018_filt.ConvertedSalary.plot(kind='box')\n",
    "plt.show()"
   ]
  },
  {
   "cell_type": "markdown",
   "metadata": {},
   "source": [
    "## Evaluation"
   ]
  },
  {
   "cell_type": "markdown",
   "metadata": {},
   "source": [
    "### How many data scientists increased from 2018 to 2019?"
   ]
  },
  {
   "cell_type": "code",
   "execution_count": 356,
   "metadata": {
    "scrolled": true
   },
   "outputs": [
    {
     "name": "stdout",
     "output_type": "stream",
     "text": [
      "Proportion of data scientist in 2019 0.04724187977453506\n",
      "Proportion of data scientist in 2018 0.03717566132213849\n"
     ]
    }
   ],
   "source": [
    "print('Proportion of data scientist in 2019',df_2019_data.shape[0]/df_2019.shape[0])\n",
    "print('Proportion of data scientist in 2018',df_2018_data.shape[0]/df_2018.shape[0])"
   ]
  },
  {
   "cell_type": "code",
   "execution_count": 357,
   "metadata": {
    "scrolled": true
   },
   "outputs": [
    {
     "name": "stdout",
     "output_type": "stream",
     "text": [
      "Proportion of data analyst in 2019 0.07081219130767413\n",
      "Proportion of data analyst in 2018 0.07646553032218907\n"
     ]
    }
   ],
   "source": [
    "print('Proportion of data analyst in 2019',df_2019_data_ana.shape[0]/df_2019.shape[0])\n",
    "print('Proportion of data analyst in 2018',df_2018_data_ana.shape[0]/df_2018.shape[0])"
   ]
  },
  {
   "cell_type": "code",
   "execution_count": 358,
   "metadata": {},
   "outputs": [],
   "source": [
    "proportion = pd.DataFrame({\n",
    "    'Data scientist or Machine learning specialist': [\n",
    "        df_2018_data.shape[0] / df_2018.shape[0] * 100,\n",
    "        df_2019_data.shape[0] / df_2019.shape[0] * 100\n",
    "    ],\n",
    "    'Data or business analyst': [\n",
    "        df_2018_data_ana.shape[0]/df_2018.shape[0] * 100,\n",
    "        df_2019_data_ana.shape[0]/df_2019.shape[0] * 100\n",
    "    ]\n",
    "})\n",
    "\n",
    "proportion_diff = pd.DataFrame({\n",
    "    'Difference': [\n",
    "         df_2019_data_ana.shape[0]/df_2019.shape[0] * 100\n",
    "            -df_2018_data_ana.shape[0]/df_2018.shape[0] * 100,\n",
    "        df_2019_data.shape[0] / df_2019.shape[0] * 100\n",
    "            -df_2018_data.shape[0] / df_2018.shape[0] * 100\n",
    "    ]\n",
    "})\n",
    "\n",
    "proportion.index = ['2018', '2019']\n",
    "proportion_diff.index = ['Data or business analyst', 'Data scientist\\nor Machine learning specialist']"
   ]
  },
  {
   "cell_type": "code",
   "execution_count": 359,
   "metadata": {},
   "outputs": [
    {
     "data": {
      "image/png": "[encoded data removed]",
      "text/plain": [
       "<Figure size 864x288 with 2 Axes>"
      ]
     },
     "metadata": {},
     "output_type": "display_data"
    }
   ],
   "source": [
    "plt.figure(figsize=(12, 4))\n",
    "plt.subplots_adjust()\n",
    "\n",
    "ax1 = plt.subplot(1, 2, 1)\n",
    "proportion.plot.bar(stacked=True, ax=ax1)\n",
    "plt.legend(loc='lower right')\n",
    "plt.title('Proportion of data relevant job from 2018 to 2019')\n",
    "plt.xlabel('Year')\n",
    "plt.ylabel('Proportion [%]')\n",
    "\n",
    "ax2 = plt.subplot(1, 2, 2)\n",
    "ax2.yaxis.tick_right()\n",
    "proportion_diff.plot.barh(legend=False, color='grey', ax=ax2)\n",
    "plt.title('Difference of proportion from 2018 to 2019')\n",
    "plt.xlabel('Difference [%]')\n",
    "\n",
    "plt.show()"
   ]
  },
  {
   "cell_type": "markdown",
   "metadata": {},
   "source": [
    "The proportion of data science job has increased from 3.7% to 4.7%. So the job demand is still increasing slightly. However, similar job such as data analyst proportion has decreased approximately 0.56 % from 2018 to 2019. So the total of these two job has decreased also. "
   ]
  },
  {
   "cell_type": "markdown",
   "metadata": {},
   "source": [
    "### How much data scientists satisfied with their job in 2018 and 2019?"
   ]
  },
  {
   "cell_type": "code",
   "execution_count": 360,
   "metadata": {
    "scrolled": true
   },
   "outputs": [
    {
     "data": {
      "image/png": "[encoded data removed]",
      "text/plain": [
       "<Figure size 576x432 with 2 Axes>"
      ]
     },
     "metadata": {},
     "output_type": "display_data"
    }
   ],
   "source": [
    "plt.figure(figsize=(8, 6))\n",
    "plt.subplots_adjust(hspace=0.3)\n",
    "\n",
    "ax = plt.subplot(2, 1, 1)\n",
    "df_2018_data.JobSatisfaction.hist(bins=7)\n",
    "plt.title('Histgram of job satisfaction in 2018')\n",
    "plt.ylabel('Frequency')\n",
    "\n",
    "plt.subplot(2, 1, 2, sharex=ax)\n",
    "df_2019_data.JobSat.hist(bins=5)\n",
    "plt.title('Histgram of job satisfaction in 2019')\n",
    "plt.xlabel('Job satisfaction')\n",
    "plt.ylabel('Frequency')\n",
    "\n",
    "plt.show()"
   ]
  },
  {
   "cell_type": "code",
   "execution_count": 361,
   "metadata": {},
   "outputs": [
    {
     "name": "stdout",
     "output_type": "stream",
     "text": [
      "Median satisfaction value in 2018:  0.8333333333333334\n",
      "Mean satisfaction value in 2018:    0.7037989145958298\n",
      "Median satisfaction value in 2019:  0.75\n",
      "Mean satisfaction value in 2019:    0.6970924690181125\n"
     ]
    }
   ],
   "source": [
    "print('Median satisfaction value in 2018: ',df_2018_data.JobSatisfaction.median())\n",
    "print('Mean satisfaction value in 2018:   ',df_2018_data.JobSatisfaction.mean())\n",
    "print('Median satisfaction value in 2019: ',df_2019_data.JobSat.median())\n",
    "print('Mean satisfaction value in 2019:   ',df_2019_data.JobSat.mean())"
   ]
  },
  {
   "cell_type": "markdown",
   "metadata": {},
   "source": [
    "Since the number of bins is different between 2018 and 2019, the comparison of median is not appropriate. The mean of satisfaction value is slightly decreased from 0.704 point to 0.697 point. However, it cannot be said decrease since the variation of multiple choice was decreased. That means the condition is not same. From the distribution of point, most of them are still satisfied with the job."
   ]
  },
  {
   "cell_type": "markdown",
   "metadata": {},
   "source": [
    "### How is the tendency of data scientist's annual salary in 2018 and 2019?"
   ]
  },
  {
   "cell_type": "code",
   "execution_count": 362,
   "metadata": {},
   "outputs": [
    {
     "data": {
      "image/png": "[encoded data removed]",
      "text/plain": [
       "<Figure size 576x432 with 2 Axes>"
      ]
     },
     "metadata": {},
     "output_type": "display_data"
    }
   ],
   "source": [
    "plt.figure(figsize=(8, 6))\n",
    "plt.subplots_adjust(hspace=0.3)\n",
    "\n",
    "ax = plt.subplot(2, 1, 1)\n",
    "df_2018_filt.ConvertedSalary.hist(bins=50)\n",
    "plt.title('Histgram of annual salary in 2018')\n",
    "plt.xlabel('Salary [USD/yrs]')\n",
    "plt.ylabel('Frequency')\n",
    "\n",
    "plt.subplot(2, 1, 2, sharex=ax)\n",
    "df_2019_filt.ConvertedComp.hist(bins=50)\n",
    "plt.title('Histgram of annual salary in 2019')\n",
    "plt.xlabel('Salary [USD/yrs]')\n",
    "plt.ylabel('Frequency')\n",
    "\n",
    "plt.show()"
   ]
  },
  {
   "cell_type": "code",
   "execution_count": 363,
   "metadata": {},
   "outputs": [
    {
     "name": "stdout",
     "output_type": "stream",
     "text": [
      "median salary in 2018: 56407.0 USD\n",
      "median salary in 2019: 53277.0 USD\n"
     ]
    }
   ],
   "source": [
    "print('median salary in 2018:',df_2018_filt.ConvertedSalary.median(),'USD')\n",
    "print('median salary in 2019:',df_2019_filt.ConvertedComp.median(),'USD')"
   ]
  },
  {
   "cell_type": "markdown",
   "metadata": {},
   "source": [
    "The median salary has decreased from 56407 USD to 53277 USD. Also, histogram shows frequency of lower range has increased. The frequency around 50,000 USD has not so changed as the trend. Since the data are from multiple countries, the trend change in relatively lower income can affect these trends. So, further investigation is necessary for more detail analysis. "
   ]
  },
  {
   "cell_type": "markdown",
   "metadata": {},
   "source": [
    "## Conclusion\n",
    "\n",
    "As a result, data scientist job looks still attractive. The demand is still growing and satisfaction rate is high. The salary is slightly in down trend, but median is 53,277 USD and there is large opportunity for earning more than 100,000 USD. It may end the rapid growth but it is not yet down trend."
   ]
  },
  {
   "cell_type": "code",
   "execution_count": null,
   "metadata": {},
   "outputs": [],
   "source": []
  }
 ],
 "metadata": {
  "kernelspec": {
   "display_name": "Python 3",
   "language": "python",
   "name": "python3"
  },
  "language_info": {
   "codemirror_mode": {
    "name": "ipython",
    "version": 3
   },
   "file_extension": ".py",
   "mimetype": "text/x-python",
   "name": "python",
   "nbconvert_exporter": "python",
   "pygments_lexer": "ipython3",
   "version": "3.6.7"
  }
 },
 "nbformat": 4,
 "nbformat_minor": 2
}
